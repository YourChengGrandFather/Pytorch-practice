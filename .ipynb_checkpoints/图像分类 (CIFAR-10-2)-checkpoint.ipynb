{
 "cells": [
  {
   "cell_type": "code",
   "execution_count": 9,
   "id": "28b2f505",
   "metadata": {
    "scrolled": true
   },
   "outputs": [],
   "source": [
    "import pandas as pd\n",
    "import numpy as np\n",
    "import matplotlib.pyplot as plt\n",
    "import os\n",
    "import shutil\n",
    "import torch\n",
    "import torchvision\n",
    "import collections"
   ]
  },
  {
   "cell_type": "code",
   "execution_count": 6,
   "id": "ac37aa96",
   "metadata": {},
   "outputs": [],
   "source": [
    "base_dit = '../data/kaggle_cifar10_tiny'"
   ]
  },
  {
   "cell_type": "code",
   "execution_count": 26,
   "id": "ca5327a8",
   "metadata": {},
   "outputs": [],
   "source": [
    "def read_csv():\n",
    "    df = pd.read_csv(os.path.join(base_dit,'trainLabels.csv'))\n",
    "    label_dict = dict(zip(df['id'],df['label']))\n",
    "    return label_dict"
   ]
  },
  {
   "cell_type": "code",
   "execution_count": null,
   "id": "8b56e034",
   "metadata": {},
   "outputs": [],
   "source": []
  }
 ],
 "metadata": {
  "kernelspec": {
   "display_name": "Python 3 (ipykernel)",
   "language": "python",
   "name": "python3"
  },
  "language_info": {
   "codemirror_mode": {
    "name": "ipython",
    "version": 3
   },
   "file_extension": ".py",
   "mimetype": "text/x-python",
   "name": "python",
   "nbconvert_exporter": "python",
   "pygments_lexer": "ipython3",
   "version": "3.9.7"
  }
 },
 "nbformat": 4,
 "nbformat_minor": 5
}
