{
 "cells": [
  {
   "cell_type": "code",
   "execution_count": 3,
   "id": "e7eae3cf",
   "metadata": {},
   "outputs": [],
   "source": [
    "import torch\n",
    "import math\n",
    "from torch import nn\n",
    "from torch.optim import SGD"
   ]
  },
  {
   "cell_type": "code",
   "execution_count": 12,
   "id": "c72c49c2",
   "metadata": {},
   "outputs": [],
   "source": [
    "# 准备数据\n",
    "w = [1,2,3]\n",
    "x = torch.rand([500,3])\n",
    "y_true = torch.matmul(x, w) + b"
   ]
  },
  {
   "cell_type": "code",
   "execution_count": 13,
   "id": "ce80e6fc",
   "metadata": {},
   "outputs": [
    {
     "data": {
      "text/plain": [
       "torch.Size([500, 3])"
      ]
     },
     "execution_count": 13,
     "metadata": {},
     "output_type": "execute_result"
    }
   ],
   "source": [
    "x.shape"
   ]
  },
  {
   "cell_type": "code",
   "execution_count": 8,
   "id": "ff71d84e",
   "metadata": {},
   "outputs": [],
   "source": [
    "# 定义模型\n",
    "class Lr(nn.Module):\n",
    "    def __init__(self):\n",
    "        super(Lr,self).__init__()\n",
    "        self.linear = nn.Linear(1,1, bias=False) # 两个参数，分别是input 的特征和output的特征\n",
    "    def forward(self, x):\n",
    "        out = self.linear(x)\n",
    "        return out\n",
    "MyLinear = Lr()\n",
    "optimizer = SGD(MyLinear.parameters(),0.01)\n",
    "mse_loss = nn.MSELoss()"
   ]
  },
  {
   "cell_type": "code",
   "execution_count": 11,
   "id": "c049807e",
   "metadata": {},
   "outputs": [
    {
     "data": {
      "text/plain": [
       "[Parameter containing:\n",
       " tensor([[0.0506]], requires_grad=True)]"
      ]
     },
     "execution_count": 11,
     "metadata": {},
     "output_type": "execute_result"
    }
   ],
   "source": [
    "list(MyLinear.parameters())"
   ]
  },
  {
   "cell_type": "code",
   "execution_count": 6,
   "id": "0e456a66",
   "metadata": {},
   "outputs": [
    {
     "name": "stdout",
     "output_type": "stream",
     "text": [
      "6.51575404742033e-10 [Parameter containing:\n",
      "tensor([[2.9999]], requires_grad=True), Parameter containing:\n",
      "tensor([1.0000], requires_grad=True)]\n"
     ]
    }
   ],
   "source": [
    "# 循环、参数更新\n",
    "for i in range(5000):\n",
    "    y_predict = MyLinear(x)\n",
    "    loss = mse_loss(y_predict, y_true)\n",
    "    optimizer.zero_grad() # 梯度变为零\n",
    "    loss.backward()\n",
    "    optimizer.step()\n",
    "print(loss.item(),list(MyLinear.parameters()))"
   ]
  },
  {
   "cell_type": "code",
   "execution_count": null,
   "id": "428db76b",
   "metadata": {},
   "outputs": [],
   "source": []
  }
 ],
 "metadata": {
  "kernelspec": {
   "display_name": "Python 3 (ipykernel)",
   "language": "python",
   "name": "python3"
  },
  "language_info": {
   "codemirror_mode": {
    "name": "ipython",
    "version": 3
   },
   "file_extension": ".py",
   "mimetype": "text/x-python",
   "name": "python",
   "nbconvert_exporter": "python",
   "pygments_lexer": "ipython3",
   "version": "3.9.7"
  }
 },
 "nbformat": 4,
 "nbformat_minor": 5
}
