{
 "cells": [
  {
   "cell_type": "code",
   "execution_count": 1,
   "id": "d8950336",
   "metadata": {},
   "outputs": [],
   "source": [
    "'''\n",
    "  code by Tae Hwan Jung(Jeff Jung) @graykode, modify by wmathor\n",
    "'''\n",
    "import torch\n",
    "import numpy as np\n",
    "import torch.nn as nn\n",
    "import torch.optim as optim\n",
    "import torch.utils.data as Data\n",
    "import torch.nn.functional as F\n",
    "import collections\n",
    "dtype = torch.FloatTensor\n",
    "device = torch.device(\"mps\")"
   ]
  },
  {
   "cell_type": "code",
   "execution_count": 2,
   "id": "134131b8",
   "metadata": {},
   "outputs": [],
   "source": [
    "# 3 words sentences (=sequence_length is 3)\n",
    "sentences = [\"i love you\", \"he loves me\", \"she likes baseball\", \"i hate you\", \"sorry for that\", \"this is awful\"]\n",
    "labels = [1, 1, 1, 0, 0, 0]  # 1 is good, 0 is not good.\n"
   ]
  },
  {
   "cell_type": "code",
   "execution_count": 3,
   "id": "256e5e45",
   "metadata": {},
   "outputs": [],
   "source": [
    "tokens = [sentence.split() for sentence in sentences]"
   ]
  },
  {
   "cell_type": "code",
   "execution_count": 4,
   "id": "9fb17f34",
   "metadata": {},
   "outputs": [],
   "source": [
    "def get_tokens(tokens):\n",
    "    tokens =  [token for line in tokens for token in line]\n",
    "    return tokens"
   ]
  },
  {
   "cell_type": "code",
   "execution_count": 7,
   "id": "fe6df51f",
   "metadata": {},
   "outputs": [],
   "source": [
    "tokens = get_tokens(tokens)"
   ]
  },
  {
   "cell_type": "code",
   "execution_count": 8,
   "id": "bed030d3",
   "metadata": {},
   "outputs": [
    {
     "data": {
      "text/plain": [
       "['i',\n",
       " 'love',\n",
       " 'you',\n",
       " 'he',\n",
       " 'loves',\n",
       " 'me',\n",
       " 'she',\n",
       " 'likes',\n",
       " 'baseball',\n",
       " 'i',\n",
       " 'hate',\n",
       " 'you',\n",
       " 'sorry',\n",
       " 'for',\n",
       " 'that',\n",
       " 'this',\n",
       " 'is',\n",
       " 'awful']"
      ]
     },
     "execution_count": 8,
     "metadata": {},
     "output_type": "execute_result"
    }
   ],
   "source": [
    "tokens"
   ]
  },
  {
   "cell_type": "code",
   "execution_count": 13,
   "id": "5a1be273",
   "metadata": {},
   "outputs": [],
   "source": [
    "def count_corpus(tokens):\n",
    "    return collections.Counter(tokens)"
   ]
  },
  {
   "cell_type": "code",
   "execution_count": 14,
   "id": "c19b1ba8",
   "metadata": {
    "scrolled": true
   },
   "outputs": [
    {
     "data": {
      "text/plain": [
       "Counter({'i': 2,\n",
       "         'love': 1,\n",
       "         'you': 2,\n",
       "         'he': 1,\n",
       "         'loves': 1,\n",
       "         'me': 1,\n",
       "         'she': 1,\n",
       "         'likes': 1,\n",
       "         'baseball': 1,\n",
       "         'hate': 1,\n",
       "         'sorry': 1,\n",
       "         'for': 1,\n",
       "         'that': 1,\n",
       "         'this': 1,\n",
       "         'is': 1,\n",
       "         'awful': 1})"
      ]
     },
     "execution_count": 14,
     "metadata": {},
     "output_type": "execute_result"
    }
   ],
   "source": [
    "count_corpus(tokens)"
   ]
  },
  {
   "cell_type": "code",
   "execution_count": 15,
   "id": "732d7f75",
   "metadata": {},
   "outputs": [
    {
     "data": {
      "text/plain": [
       "dict_items([('i', 2), ('love', 1), ('you', 2), ('he', 1), ('loves', 1), ('me', 1), ('she', 1), ('likes', 1), ('baseball', 1), ('hate', 1), ('sorry', 1), ('for', 1), ('that', 1), ('this', 1), ('is', 1), ('awful', 1)])"
      ]
     },
     "execution_count": 15,
     "metadata": {},
     "output_type": "execute_result"
    }
   ],
   "source": [
    "count_corpus(tokens).items()"
   ]
  },
  {
   "cell_type": "code",
   "execution_count": null,
   "id": "00ff013a",
   "metadata": {},
   "outputs": [],
   "source": [
    "class Vocab:\n",
    "    def __init__(self,tokens,min_freq):\n",
    "        self.id2tokens = []\n",
    "        self.token2ids = {}\n",
    "        for token,freq in count_corpus(tokens).items():\n",
    "            if freq<min_freq:\n",
    "                break\n",
    "            if token not in self.token2ids:\n",
    "                self.id2tokens.appned(token)\n",
    "                self.token2ids[token] = len(self.id2tokens)\n",
    "            \n",
    "        "
   ]
  }
 ],
 "metadata": {
  "kernelspec": {
   "display_name": "Python 3 (ipykernel)",
   "language": "python",
   "name": "python3"
  },
  "language_info": {
   "codemirror_mode": {
    "name": "ipython",
    "version": 3
   },
   "file_extension": ".py",
   "mimetype": "text/x-python",
   "name": "python",
   "nbconvert_exporter": "python",
   "pygments_lexer": "ipython3",
   "version": "3.9.7"
  }
 },
 "nbformat": 4,
 "nbformat_minor": 5
}
