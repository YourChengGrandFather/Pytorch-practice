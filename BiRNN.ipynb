{
 "cells": [
  {
   "cell_type": "code",
   "execution_count": 2,
   "id": "9802176a",
   "metadata": {},
   "outputs": [],
   "source": [
    "import torch\n",
    "from torch import nn\n",
    "from d2l import torch as d2l\n",
    "\n",
    "batch_size = 64\n",
    "train_iter, test_iter, vocab = d2l.load_data_imdb(batch_size)"
   ]
  },
  {
   "cell_type": "code",
   "execution_count": 10,
   "id": "3aeca406",
   "metadata": {},
   "outputs": [
    {
     "name": "stdout",
     "output_type": "stream",
     "text": [
      "2\n",
      "64\n",
      "64\n",
      "torch.Size([64, 500])\n"
     ]
    }
   ],
   "source": [
    "for i in train_iter:\n",
    "    print(len(i))\n",
    "    print(len(i[0]))\n",
    "    print(len(i[1]))\n",
    "    print(i[0].shape)\n",
    "    break"
   ]
  },
  {
   "cell_type": "code",
   "execution_count": 42,
   "id": "5b526c87",
   "metadata": {},
   "outputs": [],
   "source": [
    "aa = next(iter(train_iter))"
   ]
  },
  {
   "cell_type": "code",
   "execution_count": 43,
   "id": "f405befd",
   "metadata": {},
   "outputs": [
    {
     "data": {
      "text/plain": [
       "[tensor([[   10,    38,   181,  ...,     0,     0,     0],\n",
       "         [  122,   253,     5,  ...,     0,     0,     0],\n",
       "         [  282,     8,  1534,  ...,     0,     0,     0],\n",
       "         ...,\n",
       "         [   48,     6,    31,  ...,     0,     0,     0],\n",
       "         [  784,  1526,     6,  ...,     0,     0,     0],\n",
       "         [ 5249, 35992,     0,  ...,     0,     0,     0]]),\n",
       " tensor([0, 0, 1, 0, 0, 1, 1, 0, 1, 0, 0, 0, 0, 1, 0, 1, 0, 1, 0, 1, 1, 0, 0, 1,\n",
       "         1, 1, 1, 1, 0, 1, 1, 1, 1, 0, 0, 0, 1, 1, 1, 0, 1, 1, 1, 0, 1, 1, 0, 0,\n",
       "         0, 0, 0, 0, 0, 0, 0, 1, 1, 0, 1, 1, 1, 1, 0, 0])]"
      ]
     },
     "execution_count": 43,
     "metadata": {},
     "output_type": "execute_result"
    }
   ],
   "source": [
    "aa"
   ]
  },
  {
   "cell_type": "code",
   "execution_count": 11,
   "id": "d516eb86",
   "metadata": {},
   "outputs": [],
   "source": [
    "input = torch.randn(1,3,5)"
   ]
  },
  {
   "cell_type": "code",
   "execution_count": 12,
   "id": "24a33e3f",
   "metadata": {},
   "outputs": [
    {
     "data": {
      "text/plain": [
       "tensor([[[ 1.1743,  0.8453, -1.2852,  0.1323, -0.3739],\n",
       "         [ 0.0284,  0.7075,  0.4223,  0.4431, -0.2304],\n",
       "         [ 0.2463,  0.8469, -0.7575, -2.4849, -2.0079]]])"
      ]
     },
     "execution_count": 12,
     "metadata": {},
     "output_type": "execute_result"
    }
   ],
   "source": [
    "input"
   ]
  },
  {
   "cell_type": "code",
   "execution_count": 24,
   "id": "54ccdaa7",
   "metadata": {},
   "outputs": [
    {
     "name": "stdout",
     "output_type": "stream",
     "text": [
      "tensor([[-0.0448, -1.9270,  2.6078,  0.7212,  0.9924, -0.1768,  0.2435,  0.0551,\n",
      "          0.5441]], grad_fn=<EmbeddingBackward0>)\n"
     ]
    }
   ],
   "source": [
    "import numpy as np\n",
    "import torch\n",
    "import torch.nn as nn\n",
    "import torch.nn.functional as F\n",
    "from torch.autograd import Variable\n",
    "\n",
    "word_to_ix = {'hello':0, 'world':1}\n",
    "embeds = nn.Embedding(2,9)\n",
    "hello_idx = torch.LongTensor([word_to_ix['hello']])\n",
    "hello_idx = Variable(hello_idx)\n",
    "hello_embed = embeds(hello_idx)\n",
    "print(hello_embed)\n"
   ]
  },
  {
   "cell_type": "code",
   "execution_count": 25,
   "id": "b6d5d50a",
   "metadata": {},
   "outputs": [
    {
     "data": {
      "text/plain": [
       "tensor([0])"
      ]
     },
     "execution_count": 25,
     "metadata": {},
     "output_type": "execute_result"
    }
   ],
   "source": [
    "hello_idx"
   ]
  },
  {
   "cell_type": "code",
   "execution_count": 56,
   "id": "1b855f91",
   "metadata": {},
   "outputs": [],
   "source": [
    "class BiRNN(nn.Module):\n",
    "    def __init__(self, vocab_size, embed_size, num_hiddens,\n",
    "                 num_layers, **kwargs):\n",
    "        super(BiRNN, self).__init__(**kwargs)\n",
    "        self.embedding = nn.Embedding(vocab_size, embed_size)\n",
    "        # 将bidirectional设置为True以获取双向循环神经网络\n",
    "        self.encoder = nn.LSTM(embed_size, num_hiddens, num_layers=num_layers,\n",
    "                                bidirectional=True)\n",
    "        self.decoder = nn.Linear(4 * num_hiddens, 2)\n",
    "\n",
    "    def forward(self, inputs):\n",
    "        print(inputs.shape)\n",
    "        # inputs的形状是（批量大小，时间步数）\n",
    "        # 因为长短期记忆网络要求其输入的第一个维度是时间维，\n",
    "        # 所以在获得词元表示之前，输入会被转置。\n",
    "        # 输出形状为（时间步数，批量大小，词向量维度）\n",
    "        embeddings = self.embedding(inputs.T)\n",
    "        self.encoder.flatten_parameters()\n",
    "        # 返回上一个隐藏层在不同时间步的隐状态，\n",
    "        # outputs的形状是（时间步数，批量大小，2*隐藏单元数）\n",
    "        outputs, _ = self.encoder(embeddings)\n",
    "        # 连结初始和最终时间步的隐状态，作为全连接层的输入，\n",
    "        # 其形状为（批量大小，4*隐藏单元数）\n",
    "        encoding = torch.cat((outputs[0], outputs[-1]), dim=1)\n",
    "        outs = self.decoder(encoding)\n",
    "        return outs"
   ]
  },
  {
   "cell_type": "code",
   "execution_count": 57,
   "id": "65d13b32",
   "metadata": {},
   "outputs": [],
   "source": [
    "embed_size, num_hiddens, num_layers = 100, 100, 2\n",
    "net = BiRNN(len(vocab), embed_size, num_hiddens, num_layers)"
   ]
  },
  {
   "cell_type": "code",
   "execution_count": 58,
   "id": "370374d5",
   "metadata": {},
   "outputs": [
    {
     "name": "stdout",
     "output_type": "stream",
     "text": [
      "torch.Size([64, 500])\n"
     ]
    },
    {
     "data": {
      "text/plain": [
       "tensor([[-0.0423, -0.0328],\n",
       "        [-0.0410, -0.0294],\n",
       "        [-0.0392, -0.0275],\n",
       "        [-0.0697, -0.0273],\n",
       "        [-0.0282, -0.0066],\n",
       "        [-0.0265, -0.0172],\n",
       "        [-0.0423, -0.0269],\n",
       "        [-0.0610, -0.0153],\n",
       "        [-0.0536, -0.0312],\n",
       "        [-0.0420, -0.0221],\n",
       "        [-0.0356, -0.0018],\n",
       "        [-0.0580, -0.0231],\n",
       "        [-0.0505, -0.0135],\n",
       "        [-0.0599, -0.0189],\n",
       "        [-0.0392, -0.0199],\n",
       "        [-0.0256, -0.0212],\n",
       "        [-0.0511, -0.0156],\n",
       "        [-0.0517, -0.0301],\n",
       "        [-0.0544, -0.0334],\n",
       "        [-0.0569, -0.0335],\n",
       "        [-0.0509, -0.0413],\n",
       "        [-0.0498, -0.0198],\n",
       "        [-0.0630, -0.0352],\n",
       "        [-0.0405, -0.0234],\n",
       "        [-0.0548, -0.0194],\n",
       "        [-0.0537, -0.0202],\n",
       "        [-0.0474, -0.0226],\n",
       "        [-0.0350, -0.0149],\n",
       "        [-0.0497, -0.0399],\n",
       "        [-0.0538, -0.0291],\n",
       "        [-0.0294, -0.0077],\n",
       "        [-0.0438, -0.0368],\n",
       "        [-0.0059, -0.0299],\n",
       "        [-0.0809, -0.0205],\n",
       "        [-0.0223, -0.0085],\n",
       "        [-0.0438, -0.0341],\n",
       "        [-0.0591, -0.0267],\n",
       "        [-0.0365,  0.0019],\n",
       "        [-0.0402, -0.0188],\n",
       "        [-0.0539, -0.0390],\n",
       "        [-0.0537, -0.0369],\n",
       "        [-0.0457, -0.0301],\n",
       "        [-0.0473, -0.0182],\n",
       "        [-0.0437, -0.0262],\n",
       "        [-0.0395, -0.0178],\n",
       "        [-0.0718, -0.0067],\n",
       "        [-0.0585, -0.0294],\n",
       "        [-0.0345, -0.0369],\n",
       "        [-0.0557, -0.0127],\n",
       "        [-0.0380, -0.0167],\n",
       "        [-0.0476, -0.0164],\n",
       "        [-0.0512, -0.0152],\n",
       "        [-0.0510, -0.0096],\n",
       "        [-0.0324, -0.0236],\n",
       "        [-0.0647, -0.0131],\n",
       "        [-0.0473, -0.0227],\n",
       "        [-0.0618, -0.0435],\n",
       "        [-0.0430, -0.0277],\n",
       "        [-0.0435, -0.0075],\n",
       "        [-0.0698, -0.0109],\n",
       "        [-0.0541, -0.0309],\n",
       "        [-0.0558, -0.0166],\n",
       "        [-0.0616, -0.0240],\n",
       "        [-0.0589, -0.0505]], grad_fn=<AddmmBackward0>)"
      ]
     },
     "execution_count": 58,
     "metadata": {},
     "output_type": "execute_result"
    }
   ],
   "source": [
    "net(aa[0])"
   ]
  },
  {
   "cell_type": "code",
   "execution_count": 60,
   "id": "868c6738",
   "metadata": {},
   "outputs": [
    {
     "data": {
      "text/plain": [
       "tensor([   10,    38,   181,     5,    26,    31,     4,   150,   135,   110,\n",
       "            1,  1920,     6,  2417,   298,   145,    69,     1,    20,     0,\n",
       "           89,   206,     1,  1920,     7, 28104,    11,   544,     0,   103,\n",
       "          140,    24,   207,   431,     5,    66,    11,    17,    85,   102,\n",
       "          158,     0,  2478,  1579,  3331,   189,  9585,    12,     0,    40,\n",
       "          148,     8,    13,    39,  1095,    91, 28318,  1403,   140,   636,\n",
       "           11,   540,    26,    32,   916,  4483,    17,   131,    57,  1983,\n",
       "            9,    11,    49,    26,     2,   310,     0,    23,     7,     1,\n",
       "            0, 26858,  1855,    11,    13,  1360,    59,     0,    12,     0,\n",
       "           15,    36,     1,   309,  1458,     3,  2886,   287,     3,     1,\n",
       "          138,    13,    39,    98,    11,    13,   171, 40872,    12,    92,\n",
       "          563,   165,    64,  3400,     3,   173,     0,    12,  9701,   344,\n",
       "           53,  2760,    83,     0,     3,     8,   262,     8,    13,     0,\n",
       "           29,     0,    12,  2627,   159,   793,    14,     8,   121,     9,\n",
       "            8,    75,   102,    74,     9,   633,     3,     2,   368,  1728,\n",
       "            0,     0,     0,     0,     0,     0,     0,     0,     0,     0,\n",
       "            0,     0,     0,     0,     0,     0,     0,     0,     0,     0,\n",
       "            0,     0,     0,     0,     0,     0,     0,     0,     0,     0,\n",
       "            0,     0,     0,     0,     0,     0,     0,     0,     0,     0,\n",
       "            0,     0,     0,     0,     0,     0,     0,     0,     0,     0,\n",
       "            0,     0,     0,     0,     0,     0,     0,     0,     0,     0,\n",
       "            0,     0,     0,     0,     0,     0,     0,     0,     0,     0,\n",
       "            0,     0,     0,     0,     0,     0,     0,     0,     0,     0,\n",
       "            0,     0,     0,     0,     0,     0,     0,     0,     0,     0,\n",
       "            0,     0,     0,     0,     0,     0,     0,     0,     0,     0,\n",
       "            0,     0,     0,     0,     0,     0,     0,     0,     0,     0,\n",
       "            0,     0,     0,     0,     0,     0,     0,     0,     0,     0,\n",
       "            0,     0,     0,     0,     0,     0,     0,     0,     0,     0,\n",
       "            0,     0,     0,     0,     0,     0,     0,     0,     0,     0,\n",
       "            0,     0,     0,     0,     0,     0,     0,     0,     0,     0,\n",
       "            0,     0,     0,     0,     0,     0,     0,     0,     0,     0,\n",
       "            0,     0,     0,     0,     0,     0,     0,     0,     0,     0,\n",
       "            0,     0,     0,     0,     0,     0,     0,     0,     0,     0,\n",
       "            0,     0,     0,     0,     0,     0,     0,     0,     0,     0,\n",
       "            0,     0,     0,     0,     0,     0,     0,     0,     0,     0,\n",
       "            0,     0,     0,     0,     0,     0,     0,     0,     0,     0,\n",
       "            0,     0,     0,     0,     0,     0,     0,     0,     0,     0,\n",
       "            0,     0,     0,     0,     0,     0,     0,     0,     0,     0,\n",
       "            0,     0,     0,     0,     0,     0,     0,     0,     0,     0,\n",
       "            0,     0,     0,     0,     0,     0,     0,     0,     0,     0,\n",
       "            0,     0,     0,     0,     0,     0,     0,     0,     0,     0,\n",
       "            0,     0,     0,     0,     0,     0,     0,     0,     0,     0,\n",
       "            0,     0,     0,     0,     0,     0,     0,     0,     0,     0,\n",
       "            0,     0,     0,     0,     0,     0,     0,     0,     0,     0,\n",
       "            0,     0,     0,     0,     0,     0,     0,     0,     0,     0,\n",
       "            0,     0,     0,     0,     0,     0,     0,     0,     0,     0,\n",
       "            0,     0,     0,     0,     0,     0,     0,     0,     0,     0,\n",
       "            0,     0,     0,     0,     0,     0,     0,     0,     0,     0,\n",
       "            0,     0,     0,     0,     0,     0,     0,     0,     0,     0,\n",
       "            0,     0,     0,     0,     0,     0,     0,     0,     0,     0])"
      ]
     },
     "execution_count": 60,
     "metadata": {},
     "output_type": "execute_result"
    }
   ],
   "source": [
    "aa[0][0]"
   ]
  },
  {
   "cell_type": "code",
   "execution_count": 61,
   "id": "5fa68062",
   "metadata": {},
   "outputs": [
    {
     "data": {
      "text/plain": [
       "500"
      ]
     },
     "execution_count": 61,
     "metadata": {},
     "output_type": "execute_result"
    }
   ],
   "source": [
    "len(aa[0][0])"
   ]
  }
 ],
 "metadata": {
  "kernelspec": {
   "display_name": "Python 3 (ipykernel)",
   "language": "python",
   "name": "python3"
  },
  "language_info": {
   "codemirror_mode": {
    "name": "ipython",
    "version": 3
   },
   "file_extension": ".py",
   "mimetype": "text/x-python",
   "name": "python",
   "nbconvert_exporter": "python",
   "pygments_lexer": "ipython3",
   "version": "3.9.7"
  }
 },
 "nbformat": 4,
 "nbformat_minor": 5
}
