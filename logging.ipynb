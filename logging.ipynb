{
 "cells": [
  {
   "cell_type": "code",
   "execution_count": 1,
   "id": "d4a62a8b",
   "metadata": {},
   "outputs": [],
   "source": [
    "import logging"
   ]
  },
  {
   "cell_type": "code",
   "execution_count": 2,
   "id": "ccf522cc",
   "metadata": {},
   "outputs": [],
   "source": [
    "logging.debug(\"this is debug\")"
   ]
  },
  {
   "cell_type": "code",
   "execution_count": null,
   "id": "4d5b1e55",
   "metadata": {},
   "outputs": [],
   "source": [
    "logging.info(\"this is info\")"
   ]
  },
  {
   "cell_type": "code",
   "execution_count": null,
   "id": "66575668",
   "metadata": {},
   "outputs": [],
   "source": [
    "logging.warning(\"this is warning\")"
   ]
  },
  {
   "cell_type": "code",
   "execution_count": null,
   "id": "c6c27224",
   "metadata": {},
   "outputs": [],
   "source": [
    "logging.error(\"this is error\")"
   ]
  },
  {
   "cell_type": "code",
   "execution_count": null,
   "id": "b7b6fb5a",
   "metadata": {},
   "outputs": [],
   "source": [
    "logging.crtical(\"this is crtical\")"
   ]
  }
 ],
 "metadata": {
  "kernelspec": {
   "display_name": "Python 3 (ipykernel)",
   "language": "python",
   "name": "python3"
  },
  "language_info": {
   "codemirror_mode": {
    "name": "ipython",
    "version": 3
   },
   "file_extension": ".py",
   "mimetype": "text/x-python",
   "name": "python",
   "nbconvert_exporter": "python",
   "pygments_lexer": "ipython3",
   "version": "3.9.7"
  }
 },
 "nbformat": 4,
 "nbformat_minor": 5
}
