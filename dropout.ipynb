{
 "cells": [
  {
   "cell_type": "code",
   "execution_count": 2,
   "id": "b68fa434",
   "metadata": {},
   "outputs": [],
   "source": [
    "import torch\n",
    "from torch import nn"
   ]
  },
  {
   "cell_type": "code",
   "execution_count": 46,
   "id": "efb14099",
   "metadata": {},
   "outputs": [],
   "source": [
    "def dropout(x,p):\n",
    "    print(p)\n",
    "    assert 0<=p<=1\n",
    "    if p==1:\n",
    "        return torch.zeros_like(x)\n",
    "    if p==0:\n",
    "        return x\n",
    "    mask = (torch.randn(x.shape)>p).float()\n",
    "    return mask*x/(1-p)"
   ]
  },
  {
   "cell_type": "code",
   "execution_count": 47,
   "id": "bfcd6824",
   "metadata": {},
   "outputs": [],
   "source": [
    "x = torch.randn(16,dtype=torch.float32).reshape(2,8)"
   ]
  },
  {
   "cell_type": "code",
   "execution_count": 48,
   "id": "4a42e890",
   "metadata": {},
   "outputs": [
    {
     "name": "stdout",
     "output_type": "stream",
     "text": [
      "0.5\n"
     ]
    },
    {
     "data": {
      "text/plain": [
       "tensor([[ 0.6484,  2.8415, -1.3070, -0.0000, -0.1905,  0.0000,  1.5714, -0.0000],\n",
       "        [ 0.0000,  0.0000,  0.0000, -2.2445,  0.0000, -0.0000, -0.0000, -0.0000]])"
      ]
     },
     "execution_count": 48,
     "metadata": {},
     "output_type": "execute_result"
    }
   ],
   "source": [
    "dropout(x,0.5)"
   ]
  },
  {
   "cell_type": "code",
   "execution_count": 22,
   "id": "2977f9bd",
   "metadata": {},
   "outputs": [],
   "source": [
    "a = [1,2,3,4]\n"
   ]
  },
  {
   "cell_type": "code",
   "execution_count": 24,
   "id": "9991e540",
   "metadata": {},
   "outputs": [],
   "source": [
    "a = torch.Tensor(a)"
   ]
  },
  {
   "cell_type": "code",
   "execution_count": 36,
   "id": "13a058a4",
   "metadata": {},
   "outputs": [
    {
     "data": {
      "text/plain": [
       "tensor([0., 0., 1., 1.])"
      ]
     },
     "execution_count": 36,
     "metadata": {},
     "output_type": "execute_result"
    }
   ],
   "source": [
    "(a>2).float()"
   ]
  },
  {
   "cell_type": "code",
   "execution_count": 44,
   "id": "f6857978",
   "metadata": {},
   "outputs": [
    {
     "data": {
      "text/plain": [
       "tensor([[-1.0675,  1.1830,  1.5067],\n",
       "        [-0.0137, -0.8879,  0.0106]])"
      ]
     },
     "execution_count": 44,
     "metadata": {},
     "output_type": "execute_result"
    }
   ],
   "source": [
    "a = torch.randn(2,3)\n",
    "a\n"
   ]
  },
  {
   "cell_type": "code",
   "execution_count": 45,
   "id": "30dcf095",
   "metadata": {},
   "outputs": [
    {
     "data": {
      "text/plain": [
       "tensor([[False,  True,  True],\n",
       "        [False, False, False]])"
      ]
     },
     "execution_count": 45,
     "metadata": {},
     "output_type": "execute_result"
    }
   ],
   "source": [
    "a>0.5"
   ]
  },
  {
   "cell_type": "code",
   "execution_count": null,
   "id": "e2b27911",
   "metadata": {},
   "outputs": [],
   "source": []
  }
 ],
 "metadata": {
  "kernelspec": {
   "display_name": "Python 3 (ipykernel)",
   "language": "python",
   "name": "python3"
  },
  "language_info": {
   "codemirror_mode": {
    "name": "ipython",
    "version": 3
   },
   "file_extension": ".py",
   "mimetype": "text/x-python",
   "name": "python",
   "nbconvert_exporter": "python",
   "pygments_lexer": "ipython3",
   "version": "3.9.7"
  }
 },
 "nbformat": 4,
 "nbformat_minor": 5
}
