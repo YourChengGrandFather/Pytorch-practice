{
 "cells": [
  {
   "cell_type": "code",
   "execution_count": 1,
   "id": "123d1ded",
   "metadata": {},
   "outputs": [],
   "source": [
    "import torch"
   ]
  },
  {
   "cell_type": "code",
   "execution_count": 2,
   "id": "0ada6736",
   "metadata": {},
   "outputs": [],
   "source": [
    "in_channel = 5\n",
    "out_channel = 10\n",
    "width = 100\n",
    "height = 100\n",
    "kernel_size = 3\n",
    "batch_size = 1\n"
   ]
  },
  {
   "cell_type": "code",
   "execution_count": 3,
   "id": "974197bf",
   "metadata": {},
   "outputs": [],
   "source": [
    "input = torch.randn(batch_size,in_channel,width,height)"
   ]
  },
  {
   "cell_type": "code",
   "execution_count": 5,
   "id": "f6b41e59",
   "metadata": {},
   "outputs": [],
   "source": [
    "conv_layer = torch.nn.Conv2d(in_channel,out_channel,kernel_size=kernel_size)"
   ]
  },
  {
   "cell_type": "code",
   "execution_count": 6,
   "id": "cbfab749",
   "metadata": {},
   "outputs": [],
   "source": [
    "output = conv_layer(input)"
   ]
  },
  {
   "cell_type": "code",
   "execution_count": 9,
   "id": "5e1f43b4",
   "metadata": {},
   "outputs": [
    {
     "name": "stdout",
     "output_type": "stream",
     "text": [
      "torch.Size([1, 5, 100, 100])\n"
     ]
    }
   ],
   "source": [
    "print(input.shape)"
   ]
  },
  {
   "cell_type": "code",
   "execution_count": 10,
   "id": "59f8a20b",
   "metadata": {},
   "outputs": [
    {
     "name": "stdout",
     "output_type": "stream",
     "text": [
      "torch.Size([1, 10, 98, 98])\n"
     ]
    }
   ],
   "source": [
    "print(output.shape)"
   ]
  },
  {
   "cell_type": "code",
   "execution_count": 11,
   "id": "69e8a41f",
   "metadata": {},
   "outputs": [],
   "source": [
    "input = [3,4,5,6,7,3,4,5,6,7,3,4,5,6,7,3,4,5,6,7,3,4,5,6,7]"
   ]
  },
  {
   "cell_type": "code",
   "execution_count": 13,
   "id": "c66704db",
   "metadata": {},
   "outputs": [],
   "source": [
    "input = torch.Tensor(input).view(1,1,5,5)"
   ]
  },
  {
   "cell_type": "code",
   "execution_count": 14,
   "id": "e7e2128b",
   "metadata": {},
   "outputs": [],
   "source": [
    "conv_layer = torch.nn.Conv2d(1,1,kernel_size=3,padding=1,bias=False)"
   ]
  },
  {
   "cell_type": "code",
   "execution_count": 15,
   "id": "c8ff01a3",
   "metadata": {},
   "outputs": [],
   "source": [
    "kernel = torch.Tensor([1,2,3,4,5,6,7,8,9]).view(1,1,3,3)"
   ]
  },
  {
   "cell_type": "code",
   "execution_count": 16,
   "id": "1d5134fc",
   "metadata": {},
   "outputs": [],
   "source": [
    "conv_layer.weight.data = kernel.data"
   ]
  },
  {
   "cell_type": "code",
   "execution_count": 17,
   "id": "91edea24",
   "metadata": {},
   "outputs": [
    {
     "name": "stderr",
     "output_type": "stream",
     "text": [
      "[W NNPACK.cpp:53] Could not initialize NNPACK! Reason: Unsupported hardware.\n"
     ]
    }
   ],
   "source": [
    "output = conv_layer(input)"
   ]
  },
  {
   "cell_type": "code",
   "execution_count": 18,
   "id": "764cae48",
   "metadata": {},
   "outputs": [
    {
     "data": {
      "text/plain": [
       "tensor([[[[ 99., 160., 199., 238., 157.],\n",
       "          [117., 186., 231., 276., 177.],\n",
       "          [117., 186., 231., 276., 177.],\n",
       "          [117., 186., 231., 276., 177.],\n",
       "          [ 57.,  88., 109., 130.,  79.]]]], grad_fn=<ConvolutionBackward0>)"
      ]
     },
     "execution_count": 18,
     "metadata": {},
     "output_type": "execute_result"
    }
   ],
   "source": [
    "output"
   ]
  },
  {
   "cell_type": "code",
   "execution_count": null,
   "id": "95ad91b1",
   "metadata": {},
   "outputs": [],
   "source": []
  }
 ],
 "metadata": {
  "kernelspec": {
   "display_name": "Python 3 (ipykernel)",
   "language": "python",
   "name": "python3"
  },
  "language_info": {
   "codemirror_mode": {
    "name": "ipython",
    "version": 3
   },
   "file_extension": ".py",
   "mimetype": "text/x-python",
   "name": "python",
   "nbconvert_exporter": "python",
   "pygments_lexer": "ipython3",
   "version": "3.9.7"
  }
 },
 "nbformat": 4,
 "nbformat_minor": 5
}
