{
 "cells": [
  {
   "cell_type": "code",
   "execution_count": 1,
   "id": "e7eae3cf",
   "metadata": {},
   "outputs": [],
   "source": [
    "import torch\n",
    "import math\n",
    "from torch import nn\n",
    "from torch.optim import SGD"
   ]
  },
  {
   "cell_type": "code",
   "execution_count": 8,
   "id": "c72c49c2",
   "metadata": {},
   "outputs": [],
   "source": [
    "# 准备数据\n",
    "w = torch.tensor([1,2,3],dtype=torch.float)\n",
    "x = torch.rand([500,3])\n",
    "y_true = torch.matmul(x, w).reshape(-1,1)"
   ]
  },
  {
   "cell_type": "code",
   "execution_count": 9,
   "id": "c8a22477",
   "metadata": {},
   "outputs": [
    {
     "data": {
      "text/plain": [
       "tensor([[0.3835, 0.6539, 0.4848],\n",
       "        [0.2161, 0.8714, 0.3643],\n",
       "        [0.1386, 0.7482, 0.5450],\n",
       "        ...,\n",
       "        [0.2010, 0.2092, 0.1952],\n",
       "        [0.2488, 0.8448, 0.3810],\n",
       "        [0.5992, 0.2802, 0.9151]])"
      ]
     },
     "execution_count": 9,
     "metadata": {},
     "output_type": "execute_result"
    }
   ],
   "source": [
    "x"
   ]
  },
  {
   "cell_type": "code",
   "execution_count": 10,
   "id": "7e5bc40d",
   "metadata": {},
   "outputs": [
    {
     "data": {
      "text/plain": [
       "torch.Size([500, 1])"
      ]
     },
     "execution_count": 10,
     "metadata": {},
     "output_type": "execute_result"
    }
   ],
   "source": [
    "y_true.shape"
   ]
  },
  {
   "cell_type": "code",
   "execution_count": 11,
   "id": "ff71d84e",
   "metadata": {},
   "outputs": [],
   "source": [
    "# 定义模型\n",
    "class Lr(nn.Module):\n",
    "    def __init__(self):\n",
    "        super(Lr,self).__init__()\n",
    "        self.linear = nn.Linear(3,1, bias=False) # 两个参数，分别是input 的特征和output的特征\n",
    "    def forward(self, x):\n",
    "        out = self.linear(x)\n",
    "        return out\n",
    "MyLinear = Lr()\n",
    "optimizer = SGD(MyLinear.parameters(),0.01)\n",
    "mse_loss = nn.MSELoss()"
   ]
  },
  {
   "cell_type": "code",
   "execution_count": 12,
   "id": "e48ec24a",
   "metadata": {},
   "outputs": [
    {
     "data": {
      "text/plain": [
       "[Parameter containing:\n",
       " tensor([[-0.5299, -0.5081, -0.3143]], requires_grad=True)]"
      ]
     },
     "execution_count": 12,
     "metadata": {},
     "output_type": "execute_result"
    }
   ],
   "source": [
    "list(MyLinear.parameters())"
   ]
  },
  {
   "cell_type": "code",
   "execution_count": 13,
   "id": "0e456a66",
   "metadata": {},
   "outputs": [
    {
     "name": "stdout",
     "output_type": "stream",
     "text": [
      "1.939403837525333e-08 [Parameter containing:\n",
      "tensor([[1.0003, 2.0000, 2.9996]], requires_grad=True)]\n"
     ]
    }
   ],
   "source": [
    "# 循环、参数更新\n",
    "for i in range(5000):\n",
    "    y_predict = MyLinear(x)\n",
    "    loss = mse_loss(y_predict, y_true)\n",
    "    optimizer.zero_grad() # 梯度变为零\n",
    "    loss.backward()\n",
    "    optimizer.step()\n",
    "print(loss.item(),list(MyLinear.parameters()))"
   ]
  },
  {
   "cell_type": "code",
   "execution_count": null,
   "id": "428db76b",
   "metadata": {},
   "outputs": [],
   "source": []
  }
 ],
 "metadata": {
  "kernelspec": {
   "display_name": "Python 3 (ipykernel)",
   "language": "python",
   "name": "python3"
  },
  "language_info": {
   "codemirror_mode": {
    "name": "ipython",
    "version": 3
   },
   "file_extension": ".py",
   "mimetype": "text/x-python",
   "name": "python",
   "nbconvert_exporter": "python",
   "pygments_lexer": "ipython3",
   "version": "3.9.7"
  }
 },
 "nbformat": 4,
 "nbformat_minor": 5
}
