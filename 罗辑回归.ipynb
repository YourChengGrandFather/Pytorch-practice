{
 "cells": [
  {
   "cell_type": "code",
   "execution_count": 1,
   "id": "3aca9e12",
   "metadata": {},
   "outputs": [],
   "source": [
    "import torch\n",
    "import torch.nn as nn\n",
    "from torch.nn import functional as F"
   ]
  },
  {
   "cell_type": "code",
   "execution_count": 2,
   "id": "e2d5820a",
   "metadata": {},
   "outputs": [],
   "source": [
    "x_data = torch.Tensor([[1.0],[2.0],[3.0]])\n",
    "y_data = torch.Tensor([[0],[0],[1]])"
   ]
  },
  {
   "cell_type": "code",
   "execution_count": 12,
   "id": "15ddc613",
   "metadata": {},
   "outputs": [],
   "source": [
    "class LogicRegression(nn.Module):\n",
    "    def __init__(self):\n",
    "        super().__init__()\n",
    "        self.linear = nn.Linear(1,1)\n",
    "    def forward(self,x):\n",
    "        predict = torch.sigmoid(self.linear(x))\n",
    "        return predict"
   ]
  },
  {
   "cell_type": "code",
   "execution_count": 17,
   "id": "cfcc5513",
   "metadata": {},
   "outputs": [],
   "source": [
    "model = LogicRegression()\n",
    "creterion = nn.BCELoss()\n",
    "optimizer = torch.optim.SGD(model.parameters(), lr=0.01)\n",
    "for epoch in range(2000):\n",
    "    y_predict = model(x_data)\n",
    "    loss = creterion(y_predict,y_data)\n",
    "#     print('epch', loss.item())\n",
    "    optimizer.zero_grad()\n",
    "    loss.backward()\n",
    "    optimizer.step()"
   ]
  },
  {
   "cell_type": "code",
   "execution_count": 22,
   "id": "842e9ad6",
   "metadata": {},
   "outputs": [
    {
     "name": "stdout",
     "output_type": "stream",
     "text": [
      "0.9385077953338623\n"
     ]
    }
   ],
   "source": [
    "print(model(torch.Tensor([5])).item())"
   ]
  },
  {
   "cell_type": "code",
   "execution_count": null,
   "id": "92a19ffd",
   "metadata": {},
   "outputs": [],
   "source": []
  }
 ],
 "metadata": {
  "kernelspec": {
   "display_name": "Python 3 (ipykernel)",
   "language": "python",
   "name": "python3"
  },
  "language_info": {
   "codemirror_mode": {
    "name": "ipython",
    "version": 3
   },
   "file_extension": ".py",
   "mimetype": "text/x-python",
   "name": "python",
   "nbconvert_exporter": "python",
   "pygments_lexer": "ipython3",
   "version": "3.9.7"
  }
 },
 "nbformat": 4,
 "nbformat_minor": 5
}
