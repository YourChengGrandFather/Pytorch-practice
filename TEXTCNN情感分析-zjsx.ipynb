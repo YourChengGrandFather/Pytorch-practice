{
 "cells": [
  {
   "cell_type": "code",
   "execution_count": 27,
   "id": "2263f012",
   "metadata": {},
   "outputs": [],
   "source": [
    "'''\n",
    "  code by Tae Hwan Jung(Jeff Jung) @graykode, modify by wmathor\n",
    "'''\n",
    "import torch\n",
    "import numpy as np\n",
    "import torch.nn as nn\n",
    "import torch.optim as optim\n",
    "import torch.utils.data as Data\n",
    "import torch.nn.functional as F\n",
    "import collections\n",
    "dtype = torch.FloatTensor\n",
    "device = torch.device(\"mps\")"
   ]
  },
  {
   "cell_type": "code",
   "execution_count": 28,
   "id": "88ca6512",
   "metadata": {},
   "outputs": [],
   "source": [
    "# 3 words sentences (=sequence_length is 3)\n",
    "sentences = [\"i love you\", \"he loves me\", \"she likes baseball\", \"i hate you\", \"sorry for that\", \"this is awful\"]\n",
    "labels = [1, 1, 1, 0, 0, 0]  # 1 is good, 0 is not good.\n"
   ]
  },
  {
   "cell_type": "code",
   "execution_count": 29,
   "id": "c600a74d",
   "metadata": {},
   "outputs": [],
   "source": [
    "tokens = [sentence.split() for sentence in sentences]"
   ]
  },
  {
   "cell_type": "code",
   "execution_count": 30,
   "id": "ece14dd0",
   "metadata": {},
   "outputs": [],
   "source": [
    "def get_tokens(tokens):\n",
    "    tokens =  [token for line in tokens for token in line]\n",
    "    return tokens"
   ]
  },
  {
   "cell_type": "code",
   "execution_count": 31,
   "id": "c51c041f",
   "metadata": {},
   "outputs": [],
   "source": [
    "tokens = get_tokens(tokens)"
   ]
  },
  {
   "cell_type": "code",
   "execution_count": 32,
   "id": "a417e2ae",
   "metadata": {},
   "outputs": [],
   "source": [
    "def count_corpus(tokens):\n",
    "    return collections.Counter(tokens)"
   ]
  },
  {
   "cell_type": "code",
   "execution_count": 33,
   "id": "3adee325",
   "metadata": {},
   "outputs": [],
   "source": [
    "class Vocab:\n",
    "    def __init__(self,tokens,min_freq=0):\n",
    "        self.id2tokens = []\n",
    "        self.token2ids = {}\n",
    "        for token,freq in count_corpus(tokens).items():\n",
    "            if freq<min_freq:\n",
    "                break\n",
    "            if token not in self.token2ids:\n",
    "                self.id2tokens.append(token)\n",
    "                self.token2ids[token] = len(self.id2tokens)\n",
    "    def __len__(self):\n",
    "        return len(self.id2tokens)\n",
    "    def __getitem__(self,tokens):\n",
    "        return [self.token2ids.get(token,self.unk) for token in tokens]\n",
    "    @property\n",
    "    def unk(self):  # 未知词元的索引为0\n",
    "        return 0 \n",
    "    @property\n",
    "    def token_freqs(self):\n",
    "        return self._token_freqs"
   ]
  },
  {
   "cell_type": "code",
   "execution_count": 34,
   "id": "e472274b",
   "metadata": {},
   "outputs": [],
   "source": [
    "vocab = Vocab(tokens)"
   ]
  },
  {
   "cell_type": "code",
   "execution_count": 35,
   "id": "456deea5",
   "metadata": {},
   "outputs": [],
   "source": [
    "tokens = [sentence.split() for sentence in sentences]\n",
    "features = [vocab[token] for token in tokens]\n",
    "features, targets = torch.LongTensor(features), torch.LongTensor(labels)\n",
    "dataset = torch.utils.data.TensorDataset(features,targets)\n",
    "dataloader =  torch.utils.data.DataLoader(dataset, 3, True)"
   ]
  },
  {
   "cell_type": "code",
   "execution_count": 36,
   "id": "8a1324f2",
   "metadata": {},
   "outputs": [
    {
     "name": "stdout",
     "output_type": "stream",
     "text": [
      "tensor([[ 4,  5,  6],\n",
      "        [ 7,  8,  9],\n",
      "        [11, 12, 13]])\n",
      "tensor([1, 1, 0])\n",
      "tensor([[ 1, 10,  3],\n",
      "        [14, 15, 16],\n",
      "        [ 1,  2,  3]])\n",
      "tensor([0, 0, 1])\n"
     ]
    }
   ],
   "source": [
    "for x,y in dataloader:\n",
    "    print(x)\n",
    "    print(y)"
   ]
  },
  {
   "cell_type": "code",
   "execution_count": 37,
   "id": "72ce810e",
   "metadata": {},
   "outputs": [],
   "source": [
    "class TextCNN(torch.nn.Module):\n",
    "    def __init__(self,vocab_size, embedding_size):\n",
    "        super(TextCNN, self).__init__()\n",
    "        self.embedding = torch.nn.Embedding(vocab_size, embedding_size)\n",
    "        self.conv = torch.nn.Sequential(\n",
    "            torch.nn.Conv2d(1,3,kernel_size=(2,embedding_size)),\n",
    "            torch.nn.ReLU(),\n",
    "            torch.nn.MaxPool2d((2, 1)),\n",
    "            torch.nn.Flatten()\n",
    "        )\n",
    "        self.fc = torch.nn.Linear(3,2)\n",
    "    \n",
    "    def forward(self,X):\n",
    "        batch_size = X.shape[0]\n",
    "        embedding = self.embedding(X)\n",
    "        embedding = embedding.unsqueeze(1)\n",
    "        conv = self.conv(embedding)\n",
    "        print(conv.shape)\n",
    "#         conv = conv.flatten()\n",
    "#         conv = conv.view(batch_size, -1)\n",
    "#         print(conv.shape)\n",
    "        return self.fc(conv)\n",
    "    "
   ]
  },
  {
   "cell_type": "code",
   "execution_count": 38,
   "id": "a47aa507",
   "metadata": {},
   "outputs": [
    {
     "name": "stdout",
     "output_type": "stream",
     "text": [
      "Conv2d torch.Size([1, 3, 2, 1])\n",
      "ReLU torch.Size([1, 3, 2, 1])\n",
      "MaxPool2d torch.Size([1, 3, 1, 1])\n"
     ]
    }
   ],
   "source": [
    "conv = torch.nn.Sequential(\n",
    "            torch.nn.Conv2d(1,3,kernel_size=(2,2)),\n",
    "            torch.nn.ReLU(),\n",
    "            torch.nn.MaxPool2d((2, 1)),\n",
    "        )\n",
    "X = torch.randn(1,1,3,2)\n",
    "for blk in conv:\n",
    "    X = blk(X)\n",
    "    print(blk.__class__.__name__,X.shape)"
   ]
  },
  {
   "cell_type": "code",
   "execution_count": 39,
   "id": "4eb86c35",
   "metadata": {},
   "outputs": [
    {
     "name": "stdout",
     "output_type": "stream",
     "text": [
      "torch.Size([3, 3])\n",
      "Epoch: 0001 loss = 0.862486\n",
      "torch.Size([3, 3])\n",
      "Epoch: 0001 loss = 0.731477\n",
      "torch.Size([3, 3])\n",
      "Epoch: 0002 loss = 0.732072\n",
      "torch.Size([3, 3])\n",
      "Epoch: 0002 loss = 0.481238\n",
      "torch.Size([3, 3])\n",
      "Epoch: 0003 loss = 0.536991\n",
      "torch.Size([3, 3])\n",
      "Epoch: 0003 loss = 0.443261\n",
      "torch.Size([3, 3])\n",
      "Epoch: 0004 loss = 0.408995\n",
      "torch.Size([3, 3])\n",
      "Epoch: 0004 loss = 0.337583\n",
      "torch.Size([3, 3])\n",
      "Epoch: 0005 loss = 0.291860\n",
      "torch.Size([3, 3])\n",
      "Epoch: 0005 loss = 0.132564\n",
      "torch.Size([3, 3])\n",
      "Epoch: 0006 loss = 0.160632\n",
      "torch.Size([3, 3])\n",
      "Epoch: 0006 loss = 0.061674\n",
      "torch.Size([3, 3])\n",
      "Epoch: 0007 loss = 0.012779\n",
      "torch.Size([3, 3])\n",
      "Epoch: 0007 loss = 0.124808\n",
      "torch.Size([3, 3])\n",
      "Epoch: 0008 loss = 0.084493\n",
      "torch.Size([3, 3])\n",
      "Epoch: 0008 loss = 0.003014\n",
      "torch.Size([3, 3])\n",
      "Epoch: 0009 loss = 0.001890\n",
      "torch.Size([3, 3])\n",
      "Epoch: 0009 loss = 0.011953\n",
      "torch.Size([3, 3])\n",
      "Epoch: 0010 loss = 0.004757\n",
      "torch.Size([3, 3])\n",
      "Epoch: 0010 loss = 0.002494\n",
      "torch.Size([3, 3])\n",
      "Epoch: 0011 loss = 0.001838\n",
      "torch.Size([3, 3])\n",
      "Epoch: 0011 loss = 0.001288\n",
      "torch.Size([3, 3])\n",
      "Epoch: 0012 loss = 0.001234\n",
      "torch.Size([3, 3])\n",
      "Epoch: 0012 loss = 0.000284\n",
      "torch.Size([3, 3])\n",
      "Epoch: 0013 loss = 0.000175\n",
      "torch.Size([3, 3])\n",
      "Epoch: 0013 loss = 0.000585\n",
      "torch.Size([3, 3])\n",
      "Epoch: 0014 loss = 0.000072\n",
      "torch.Size([3, 3])\n",
      "Epoch: 0014 loss = 0.000366\n",
      "torch.Size([3, 3])\n",
      "Epoch: 0015 loss = 0.000292\n",
      "torch.Size([3, 3])\n",
      "Epoch: 0015 loss = 0.000022\n",
      "torch.Size([3, 3])\n",
      "Epoch: 0016 loss = 0.000187\n",
      "torch.Size([3, 3])\n",
      "Epoch: 0016 loss = 0.000011\n",
      "torch.Size([3, 3])\n",
      "Epoch: 0017 loss = 0.000008\n",
      "torch.Size([3, 3])\n",
      "Epoch: 0017 loss = 0.000105\n",
      "torch.Size([3, 3])\n",
      "Epoch: 0018 loss = 0.000074\n",
      "torch.Size([3, 3])\n",
      "Epoch: 0018 loss = 0.000017\n",
      "torch.Size([3, 3])\n",
      "Epoch: 0019 loss = 0.000011\n",
      "torch.Size([3, 3])\n",
      "Epoch: 0019 loss = 0.000048\n",
      "torch.Size([3, 3])\n",
      "Epoch: 0020 loss = 0.000009\n",
      "torch.Size([3, 3])\n",
      "Epoch: 0020 loss = 0.000037\n"
     ]
    }
   ],
   "source": [
    "device = torch.device('mps')\n",
    "model = TextCNN(16,2).to(device)\n",
    "criterion = nn.CrossEntropyLoss().to(device)\n",
    "optimizer = optim.Adam(model.parameters(), lr=0.1)\n",
    "# # Training\n",
    "for epoch in range(20):\n",
    "    for batch_x, batch_y in dataloader:\n",
    "        batch_x, batch_y = batch_x.to(device), batch_y.to(device)\n",
    "        pred = model(batch_x)\n",
    "        loss = criterion(pred, batch_y)\n",
    "        #     if (epoch + 1) % 1000 == 0:\n",
    "        print('Epoch:', '%04d' % (epoch + 1), 'loss =', '{:.6f}'.format(loss))\n",
    "\n",
    "        optimizer.zero_grad()\n",
    "        loss.backward()\n",
    "        optimizer.step()"
   ]
  },
  {
   "cell_type": "code",
   "execution_count": null,
   "id": "8062e96b",
   "metadata": {},
   "outputs": [],
   "source": []
  }
 ],
 "metadata": {
  "kernelspec": {
   "display_name": "Python 3 (ipykernel)",
   "language": "python",
   "name": "python3"
  },
  "language_info": {
   "codemirror_mode": {
    "name": "ipython",
    "version": 3
   },
   "file_extension": ".py",
   "mimetype": "text/x-python",
   "name": "python",
   "nbconvert_exporter": "python",
   "pygments_lexer": "ipython3",
   "version": "3.9.7"
  }
 },
 "nbformat": 4,
 "nbformat_minor": 5
}
