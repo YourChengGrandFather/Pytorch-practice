{
 "cells": [
  {
   "cell_type": "code",
   "execution_count": 4,
   "id": "527efa31",
   "metadata": {},
   "outputs": [],
   "source": [
    "\"\"\"\n",
    "batch=3, nc = 4\n",
    "\"\"\"\n",
    "import numpy as np\n",
    "\n",
    "target = np.array([\n",
    "    [-1.0606, 1.5613, 1.2007, -0.2481],\n",
    "    [-1.9652, -0.4367, -0.0645, -0.5104],\n",
    "    [0.1011, -0.5904, 0.0243, 0.1002]\n",
    "])\n",
    "\n",
    "label = np.array([0, 2, 1])\n",
    "\n",
    "\n",
    "def np_softmax(arr):\n",
    "    assert len(arr.shape) == 2\n",
    "    arr_exp = np.exp(arr)\n",
    "    arr_sum = np.sum(arr_exp, axis=1)  # (3,4) -->(3,)\n",
    "    arr_sum = arr_sum[:, None]  # 增加维度，才可以通过广播，进行矩阵除法。(3, )-->(3, 1)\n",
    "    return arr_exp / arr_sum"
   ]
  },
  {
   "cell_type": "code",
   "execution_count": 2,
   "id": "d41f96b4",
   "metadata": {},
   "outputs": [],
   "source": [
    "def np_onehot(nc, true_label):\n",
    "    \"\"\"\n",
    "    param nc: nc代表划分的类别数目\n",
    "    param true_label: 传入的标签 shape :（batch, )\n",
    "    return: 返回一个(batch, nc)形式的one_hot变量\n",
    "    \"\"\"\n",
    "    tmp = np.arange(nc)\n",
    "    tmp = tmp[None, :]  # 增加行的维度，[0,1,2,3] -->[[0, 1, 2, 3]] 。后续才能广播，每一行都是0,1,2,3\n",
    "    true_label = true_label[:, None]  # 增加列的维度，[0, 2, 1] -->[[0],[2],[1]] 。按照列广播\n",
    "    ans = tmp == true_label  # 自动广播，返回(batch, nc)形式，为True或False\n",
    "    return ans.astype(int)  # bool --> int"
   ]
  },
  {
   "cell_type": "code",
   "execution_count": 11,
   "id": "1fada377",
   "metadata": {},
   "outputs": [
    {
     "name": "stdout",
     "output_type": "stream",
     "text": [
      "target_soft [[0.03757853 0.51715002 0.36058691 0.08468454]\n",
      " [0.06029378 0.27803    0.40340016 0.25827606]\n",
      " [0.2918856  0.14618339 0.27030798 0.29162303]]\n",
      "label_one [[1 0 0 0]\n",
      " [0 0 1 0]\n",
      " [0 1 0 0]]\n",
      "res [[3.28132227 0.         0.         0.        ]\n",
      " [0.         0.         0.90782626 0.        ]\n",
      " [0.         1.92289332 0.         0.        ]]\n",
      "2.0373472850337726\n"
     ]
    }
   ],
   "source": [
    "# 1.对预测结果softmax处理\n",
    "target_soft = np_softmax(target)\n",
    "print('target_soft', target_soft)\n",
    "# 2. 取log对数\n",
    "target_log = np.log(target_soft)\n",
    "# 3. one-hot变量\n",
    "label_one = np_onehot(4, label)\n",
    "print('label_one', label_one)\n",
    "# 4. python矩阵乘法，按照元素相乘； 取负数  ， 负对数\n",
    "res = -target_log * label_one\n",
    "print('res', res)\n",
    "# 5. 按照列求和， 取均值\n",
    "loss = np.mean(np.sum(res, axis=1))\n",
    "\n",
    "print(loss)"
   ]
  },
  {
   "cell_type": "code",
   "execution_count": 15,
   "id": "831a4dc7",
   "metadata": {},
   "outputs": [],
   "source": [
    "a = np.array([1,2,3])\n",
    "num = 4"
   ]
  },
  {
   "cell_type": "code",
   "execution_count": 18,
   "id": "ea61eb0d",
   "metadata": {},
   "outputs": [
    {
     "data": {
      "text/plain": [
       "array([[0, 1, 0, 0],\n",
       "       [0, 0, 1, 0],\n",
       "       [0, 0, 0, 1]])"
      ]
     },
     "execution_count": 18,
     "metadata": {},
     "output_type": "execute_result"
    }
   ],
   "source": [
    "b = np.arange(0,num)\n",
    "b = b[None,:]\n",
    "c = b==a[:,None]\n",
    "c.astype(int)"
   ]
  },
  {
   "cell_type": "code",
   "execution_count": 19,
   "id": "f56d003c",
   "metadata": {},
   "outputs": [
    {
     "data": {
      "text/plain": [
       "torch.Size([512, 10])"
      ]
     },
     "execution_count": 19,
     "metadata": {},
     "output_type": "execute_result"
    }
   ],
   "source": [
    "import torch\n",
    "v = torch.rand(512,10)\n",
    "v.shape"
   ]
  },
  {
   "cell_type": "code",
   "execution_count": 20,
   "id": "60f6a5c9",
   "metadata": {},
   "outputs": [
    {
     "data": {
      "text/plain": [
       "torch.Size([5120, 1])"
      ]
     },
     "execution_count": 20,
     "metadata": {},
     "output_type": "execute_result"
    }
   ],
   "source": [
    "v.reshape(-1,1).shape"
   ]
  },
  {
   "cell_type": "code",
   "execution_count": null,
   "id": "561b26f4",
   "metadata": {},
   "outputs": [],
   "source": []
  }
 ],
 "metadata": {
  "kernelspec": {
   "display_name": "Python 3 (ipykernel)",
   "language": "python",
   "name": "python3"
  },
  "language_info": {
   "codemirror_mode": {
    "name": "ipython",
    "version": 3
   },
   "file_extension": ".py",
   "mimetype": "text/x-python",
   "name": "python",
   "nbconvert_exporter": "python",
   "pygments_lexer": "ipython3",
   "version": "3.9.7"
  }
 },
 "nbformat": 4,
 "nbformat_minor": 5
}
