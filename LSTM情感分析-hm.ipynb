{
 "cells": [
  {
   "cell_type": "code",
   "execution_count": 1,
   "id": "86b761a4",
   "metadata": {},
   "outputs": [],
   "source": [
    "'''\n",
    "  code by Tae Hwan Jung(Jeff Jung) @graykode, modify by wmathor\n",
    "'''\n",
    "import torch\n",
    "import numpy as np\n",
    "import torch.nn as nn\n",
    "import torch.optim as optim\n",
    "import torch.utils.data as Data\n",
    "import torch.nn.functional as F"
   ]
  },
  {
   "cell_type": "code",
   "execution_count": 2,
   "id": "2cd9281d",
   "metadata": {},
   "outputs": [],
   "source": [
    "# 3 words sentences (=sequence_length is 3)\n",
    "sentences = [\"i love you\", \"he loves me\", \"she likes baseball\", \"i hate you\", \"sorry for that\", \"this is awful\"]\n",
    "labels = [1, 1, 1, 0, 0, 0]  # 1 is good, 0 is not good.\n",
    "\n",
    "# TextCNN Parameter\n",
    "embedding_size = 2\n",
    "sequence_length = len(sentences[0]) # every sentences contains sequence_length(=3) words\n",
    "num_classes = len(set(labels))  # num_classes=2\n",
    "batch_size = 3\n",
    "\n",
    "word_list = \" \".join(sentences).split()\n",
    "vocab = list(set(word_list))\n",
    "word2idx = {w: i for i, w in enumerate(vocab)}\n",
    "vocab_size = len(vocab)"
   ]
  },
  {
   "cell_type": "code",
   "execution_count": 3,
   "id": "16079014",
   "metadata": {},
   "outputs": [],
   "source": [
    "def make_data(sentences, labels):\n",
    "    inputs = []\n",
    "    for sen in sentences:\n",
    "        inputs.append([word2idx[n] for n in sen.split()])\n",
    "\n",
    "    targets = []\n",
    "    for out in labels:\n",
    "        targets.append(out) # To using Torch Softmax Loss function\n",
    "    return inputs, targets\n",
    "\n",
    "input_batch, target_batch = make_data(sentences, labels)\n",
    "input_batch, target_batch = torch.LongTensor(input_batch), torch.LongTensor(target_batch)\n",
    "\n",
    "dataset = Data.TensorDataset(input_batch, target_batch)\n",
    "loader = Data.DataLoader(dataset, batch_size, True)"
   ]
  },
  {
   "cell_type": "code",
   "execution_count": 4,
   "id": "976d23cf",
   "metadata": {},
   "outputs": [],
   "source": [
    "voab_size = len(vocab)\n",
    "embedding_size=100\n",
    "hidden_size=128\n",
    "num_layers=2\n",
    "batch_first=True\n",
    "biddirectional=False\n",
    "# device = torch.device(\"mps\")"
   ]
  },
  {
   "cell_type": "code",
   "execution_count": 14,
   "id": "6978676f",
   "metadata": {},
   "outputs": [],
   "source": [
    "class LSTMClass(nn.Module):\n",
    "    def __init__(self,voab_size,embedding_size,hidden_size,num_layers,batch_first,biddirectional):\n",
    "        # voab_size2,embedding_size300\n",
    "        super(LSTMClass,self).__init__()\n",
    "        self.embedding = nn.Embedding(voab_size,embedding_size)\n",
    "        # LSTM参数：input_size输入维度（和embedding_size一样，只是叫法不同）、hidden_size、numbe_layers,batch_first、biddirectional\n",
    "        self.lstm = nn.LSTM(input_size=embedding_size,hidden_size=hidden_size,\n",
    "                            num_layers=num_layers,batch_first=True,bidirectional=True)\n",
    "        self.fc = nn.Linear(hidden_size*2,2) # max_len:每个评论的长度\n",
    "    def forward(self,X):\n",
    "        embedding_x = self.embedding(X) # 输出形状（batch_size，seq_len,embedding_size）\n",
    "        print('embedding_x',embedding_x.shape)\n",
    "        x,(h_n,c_n) = self.lstm(embedding_x)\n",
    "        output_fw = h_n[-2,:,:]\n",
    "        output_bw = h_n[-1,:,:]\n",
    "        output = torch.cat([output_fw,output_bw],dim=-1)\n",
    "        print('output',output.shape)\n",
    "        return self.fc(output)\n",
    "        \n",
    "        "
   ]
  },
  {
   "cell_type": "code",
   "execution_count": 28,
   "id": "925d9154",
   "metadata": {},
   "outputs": [],
   "source": [
    "class BiRNN(nn.Module):\n",
    "    def __init__(self, voab_size,embed_size,num_hiddens,num_layers,batch_first,biddirectional):\n",
    "        super(BiRNN, self).__init__()\n",
    "        self.embedding = nn.Embedding(vocab_size, embed_size)\n",
    "        # 将bidirectional设置为True以获取双向循环神经网络\n",
    "        self.encoder = nn.LSTM(embed_size, num_hiddens, num_layers=num_layers,\n",
    "                                bidirectional=True)\n",
    "        self.decoder = nn.Linear(4 * num_hiddens, 2)\n",
    "\n",
    "    def forward(self, inputs):\n",
    "        # inputs的形状是（批量大小，时间步数）\n",
    "        # 因为长短期记忆网络要求其输入的第一个维度是时间维，\n",
    "        # 所以在获得词元表示之前，输入会被转置。\n",
    "        # 输出形状为（时间步数，批量大小，词向量维度）\n",
    "        embeddings = self.embedding(inputs.T)\n",
    "        self.encoder.flatten_parameters()\n",
    "        # 返回上一个隐藏层在不同时间步的隐状态，\n",
    "        # outputs的形状是（时间步数，批量大小，2*隐藏单元数）\n",
    "        outputs, _ = self.encoder(embeddings)\n",
    "        # 连结初始和最终时间步的隐状态，作为全连接层的输入，\n",
    "        # 其形状为（批量大小，4*隐藏单元数）\n",
    "        encoding = torch.cat((outputs[0], outputs[-1]), dim=1)\n",
    "        print('encoding', encoding.shape)\n",
    "        outs = self.decoder(encoding)\n",
    "        return outs"
   ]
  },
  {
   "cell_type": "code",
   "execution_count": 29,
   "id": "835e44a8",
   "metadata": {},
   "outputs": [
    {
     "data": {
      "text/plain": [
       "device(type='cpu')"
      ]
     },
     "execution_count": 29,
     "metadata": {},
     "output_type": "execute_result"
    }
   ],
   "source": [
    "device = torch.device('cuda' if torch.cuda.is_available() else 'cpu')\n",
    "device\n"
   ]
  },
  {
   "cell_type": "code",
   "execution_count": 30,
   "id": "69eac49d",
   "metadata": {},
   "outputs": [
    {
     "name": "stdout",
     "output_type": "stream",
     "text": [
      "encoding torch.Size([3, 512])\n",
      "encoding torch.Size([3, 512])\n",
      "encoding torch.Size([3, 512])\n",
      "encoding torch.Size([3, 512])\n",
      "encoding torch.Size([3, 512])\n",
      "encoding torch.Size([3, 512])\n",
      "encoding torch.Size([3, 512])\n",
      "encoding torch.Size([3, 512])\n",
      "encoding torch.Size([3, 512])\n",
      "encoding torch.Size([3, 512])\n",
      "encoding torch.Size([3, 512])\n",
      "encoding torch.Size([3, 512])\n",
      "encoding torch.Size([3, 512])\n",
      "encoding torch.Size([3, 512])\n",
      "encoding torch.Size([3, 512])\n",
      "encoding torch.Size([3, 512])\n",
      "encoding torch.Size([3, 512])\n",
      "encoding torch.Size([3, 512])\n",
      "encoding torch.Size([3, 512])\n",
      "encoding torch.Size([3, 512])\n",
      "encoding torch.Size([3, 512])\n",
      "encoding torch.Size([3, 512])\n",
      "encoding torch.Size([3, 512])\n",
      "encoding torch.Size([3, 512])\n",
      "encoding torch.Size([3, 512])\n",
      "encoding torch.Size([3, 512])\n",
      "encoding torch.Size([3, 512])\n",
      "encoding torch.Size([3, 512])\n",
      "encoding torch.Size([3, 512])\n",
      "encoding torch.Size([3, 512])\n",
      "encoding torch.Size([3, 512])\n",
      "encoding torch.Size([3, 512])\n",
      "encoding torch.Size([3, 512])\n",
      "encoding torch.Size([3, 512])\n",
      "encoding torch.Size([3, 512])\n",
      "encoding torch.Size([3, 512])\n",
      "encoding torch.Size([3, 512])\n",
      "encoding torch.Size([3, 512])\n",
      "encoding torch.Size([3, 512])\n",
      "encoding torch.Size([3, 512])\n"
     ]
    }
   ],
   "source": [
    "model = BiRNN(voab_size,embedding_size,hidden_size,num_layers,batch_first,biddirectional).to(device)\n",
    "criterion = nn.CrossEntropyLoss().to(device)\n",
    "optimizer = optim.Adam(model.parameters(), lr=0.1)\n",
    "\n",
    "# Training\n",
    "for epoch in range(20):\n",
    "    for batch_x, batch_y in loader:\n",
    "        batch_x, batch_y = batch_x.to(device), batch_y.to(device)\n",
    "#         print('batch_x',batch_x.shape)\n",
    "        pred = model(batch_x)\n",
    "        loss = criterion(pred, batch_y)\n",
    "        #     if (epoch + 1) % 1000 == 0:\n",
    "#         print('Epoch:', '%04d' % (epoch + 1), 'loss =', '{:.6f}'.format(loss))\n",
    "\n",
    "        optimizer.zero_grad()\n",
    "        loss.backward()\n",
    "        optimizer.step()"
   ]
  },
  {
   "cell_type": "code",
   "execution_count": null,
   "id": "f2514521",
   "metadata": {},
   "outputs": [],
   "source": []
  },
  {
   "cell_type": "code",
   "execution_count": null,
   "id": "5d83dda2",
   "metadata": {},
   "outputs": [],
   "source": []
  },
  {
   "cell_type": "code",
   "execution_count": null,
   "id": "56c26142",
   "metadata": {},
   "outputs": [],
   "source": []
  }
 ],
 "metadata": {
  "kernelspec": {
   "display_name": "Python 3 (ipykernel)",
   "language": "python",
   "name": "python3"
  },
  "language_info": {
   "codemirror_mode": {
    "name": "ipython",
    "version": 3
   },
   "file_extension": ".py",
   "mimetype": "text/x-python",
   "name": "python",
   "nbconvert_exporter": "python",
   "pygments_lexer": "ipython3",
   "version": "3.9.7"
  }
 },
 "nbformat": 4,
 "nbformat_minor": 5
}
