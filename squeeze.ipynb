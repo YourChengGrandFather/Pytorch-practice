{
 "cells": [
  {
   "cell_type": "code",
   "execution_count": 6,
   "id": "740e3a41",
   "metadata": {},
   "outputs": [],
   "source": [
    "import torch\n",
    "import torch.nn as nn\n",
    "import torch.nn.functional as F\n",
    "import torch.optim as optim"
   ]
  },
  {
   "cell_type": "code",
   "execution_count": 7,
   "id": "fdaed50e",
   "metadata": {},
   "outputs": [
    {
     "name": "stdout",
     "output_type": "stream",
     "text": [
      "a的值是tensor([[0.0000e+00, 3.6893e+19, 0.0000e+00]]),纬度是torch.Size([1, 3])\n",
      "a.squeeze(0)的值是\n",
      "tensor([0.0000e+00, 3.6893e+19, 0.0000e+00]) torch.Size([3])\n",
      "a.squeeze(1)的值是\n",
      "tensor([[0.0000e+00, 3.6893e+19, 0.0000e+00]]) torch.Size([1, 3])\n"
     ]
    }
   ],
   "source": [
    "\"\"\"\n",
    "queeze()\n",
    "\n",
    "函数功能：去除size为1的维度，包括行和列。当维度大于等于2时，squeeze()无作用。\n",
    "\n",
    "其中squeeze(0)代表若第一维度值为1则去除第一维度，squeeze(1)代表若第二维度值为1则去除第二维度。\n",
    "\n",
    "\n",
    "unsqueeze()\n",
    "\n",
    "函数功能：与squeeze()函数功能相反，用于添加维度。\n",
    "\n",
    "\"\"\"\n",
    "a = torch.Tensor(1,3)\n",
    "print(\"a的值是{},纬度是{}\".format(a,a.shape))\n",
    "print(\"a.squeeze(0)的值是\")\n",
    "print(a.squeeze(0),a.squeeze(0).shape)\n",
    "print(\"a.squeeze(1)的值是\")\n",
    "print(a.squeeze(1),a.squeeze(1).shape)"
   ]
  },
  {
   "cell_type": "code",
   "execution_count": 3,
   "id": "c6ba9356",
   "metadata": {},
   "outputs": [
    {
     "name": "stdout",
     "output_type": "stream",
     "text": [
      "b的值\n",
      "tensor([[ 4.0092e-08,  4.7545e+30,  1.3569e-14],\n",
      "        [-9.5698e-23, -1.5734e-02,  1.7103e+29]]) torch.Size([2, 3])\n",
      "b.squeeze(0)的值是\n",
      "tensor([[ 4.0092e-08,  4.7545e+30,  1.3569e-14],\n",
      "        [-9.5698e-23, -1.5734e-02,  1.7103e+29]]) torch.Size([2, 3])\n",
      "b.squeeze(1)的值是\n",
      "tensor([[ 4.0092e-08,  4.7545e+30,  1.3569e-14],\n",
      "        [-9.5698e-23, -1.5734e-02,  1.7103e+29]]) torch.Size([2, 3])\n",
      "c的值\n",
      "tensor([[2.0000e+00],\n",
      "        [3.3710e-03],\n",
      "        [1.7791e-10]]) torch.Size([3, 1])\n",
      "c.squeeze(0)的值是\n",
      "tensor([[2.0000e+00],\n",
      "        [3.3710e-03],\n",
      "        [1.7791e-10]]) torch.Size([3, 1])\n",
      "c.squeeze(1)的值是\n",
      "tensor([2.0000e+00, 3.3710e-03, 1.7791e-10]) torch.Size([3])\n"
     ]
    }
   ],
   "source": [
    "b = torch.Tensor(2,3)\n",
    "print(\"b的值\")\n",
    "print(b,b.shape)\n",
    "print(\"b.squeeze(0)的值是\")\n",
    "print(b.squeeze(0),b.squeeze(0).shape)\n",
    "print(\"b.squeeze(1)的值是\")\n",
    "print(b.squeeze(1),b.squeeze(1).shape)\n",
    "c = torch.Tensor(3,1)\n",
    "print(\"c的值\")\n",
    "print(c,c.shape)\n",
    "print(\"c.squeeze(0)的值是\")\n",
    "print(c.squeeze(0),c.squeeze(0).shape)\n",
    "print(\"c.squeeze(1)的值是\")\n",
    "print(c.squeeze(1),c.squeeze(1).shape)\n",
    "\n",
    "\n"
   ]
  },
  {
   "cell_type": "code",
   "execution_count": 4,
   "id": "cf4db1dd",
   "metadata": {},
   "outputs": [
    {
     "name": "stdout",
     "output_type": "stream",
     "text": [
      "g的值是\n",
      "tensor([0.0000e+00, 2.2415e-01, 1.0842e-19]) torch.Size([3])\n",
      "g.unsqueeze(0)的值是\n",
      "tensor([[0.0000e+00, 2.2415e-01, 1.0842e-19]]) torch.Size([1, 3])\n",
      "g.unsqueeze(1)的值是\n",
      "tensor([[0.0000e+00],\n",
      "        [2.2415e-01],\n",
      "        [1.0842e-19]]) torch.Size([3, 1])\n"
     ]
    }
   ],
   "source": [
    "# unsqueeze()\n",
    "g = torch.Tensor(3)\n",
    "print(\"g的值是\")\n",
    "print(g,g.shape)\n",
    "print(\"g.unsqueeze(0)的值是\")\n",
    "print(g.unsqueeze(0),g.unsqueeze(0).shape)\n",
    "print(\"g.unsqueeze(1)的值是\")\n",
    "print(g.unsqueeze(1),g.unsqueeze(1).shape)\n",
    "#print(g.unsqueeze()) 必须指明维度\n"
   ]
  },
  {
   "cell_type": "code",
   "execution_count": null,
   "id": "82558395",
   "metadata": {},
   "outputs": [],
   "source": []
  }
 ],
 "metadata": {
  "kernelspec": {
   "display_name": "Python 3 (ipykernel)",
   "language": "python",
   "name": "python3"
  },
  "language_info": {
   "codemirror_mode": {
    "name": "ipython",
    "version": 3
   },
   "file_extension": ".py",
   "mimetype": "text/x-python",
   "name": "python",
   "nbconvert_exporter": "python",
   "pygments_lexer": "ipython3",
   "version": "3.9.7"
  }
 },
 "nbformat": 4,
 "nbformat_minor": 5
}
