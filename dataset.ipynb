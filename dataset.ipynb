{
 "cells": [
  {
   "cell_type": "code",
   "execution_count": 45,
   "id": "ae2cb4d1",
   "metadata": {},
   "outputs": [],
   "source": [
    "from torch.utils.data import Dataset,DataLoader\n",
    "import pandas as pd\n",
    "import torch"
   ]
  },
  {
   "cell_type": "code",
   "execution_count": 2,
   "id": "199d1b9d",
   "metadata": {},
   "outputs": [],
   "source": [
    "# class MyClass(Dataset):\n",
    "#     def __init__(self):\n",
    "#         self.df = pd.read_csv('./data/movies.csv')\n",
    "#     def __getitem__(self,index):\n",
    "#         return self.df.iloc[index]\n",
    "#     def __len__(self):\n",
    "#         return len(self.df)\n",
    "# my_dataset = MyClass()\n",
    "# print(my_dataset[1])"
   ]
  },
  {
   "cell_type": "code",
   "execution_count": 3,
   "id": "228e5451",
   "metadata": {},
   "outputs": [],
   "source": [
    "# dataset = DataLoader(dataset=my_dataset, batch_size=206, shuffle=True, num_workers=4)\n",
    "# len(dataset)"
   ]
  },
  {
   "cell_type": "code",
   "execution_count": 4,
   "id": "1e098b96",
   "metadata": {},
   "outputs": [],
   "source": [
    "from torchvision.datasets import MNIST"
   ]
  },
  {
   "cell_type": "code",
   "execution_count": 5,
   "id": "9b4efd30",
   "metadata": {},
   "outputs": [],
   "source": [
    "mist = MNIST('./data',train=True, download=False, transform=None)"
   ]
  },
  {
   "cell_type": "code",
   "execution_count": 6,
   "id": "581e35de",
   "metadata": {},
   "outputs": [
    {
     "name": "stdout",
     "output_type": "stream",
     "text": [
      "Dataset MNIST\n",
      "    Number of datapoints: 60000\n",
      "    Root location: ./data\n",
      "    Split: Train\n"
     ]
    }
   ],
   "source": [
    "print(mist)"
   ]
  },
  {
   "cell_type": "code",
   "execution_count": 15,
   "id": "8c484c8c",
   "metadata": {},
   "outputs": [
    {
     "data": {
      "image/png": "[encoded data removed]",
      "text/plain": [
       "<PIL.Image.Image image mode=L size=28x28>"
      ]
     },
     "execution_count": 15,
     "metadata": {},
     "output_type": "execute_result"
    }
   ],
   "source": [
    "mist[1][0]"
   ]
  },
  {
   "cell_type": "code",
   "execution_count": 25,
   "id": "94ca21e6",
   "metadata": {},
   "outputs": [],
   "source": [
    "from torchvision.transforms import Compose,Normalize,ToTensor\n",
    "from torch.utils.data import DataLoader\n",
    "transform_fn = Compose([\n",
    "    ToTensor(),\n",
    "    Normalize(mean=(0.1307,),std=(0.3081,))\n",
    "])\n",
    "dataset = MNIST('./data',train=True, download=False, transform=transform_fn)\n",
    "# data_loader = DataLoader(dataset,batch_size=12,shuffle=True)\n",
    "# list(data_loader)"
   ]
  },
  {
   "cell_type": "code",
   "execution_count": 26,
   "id": "34d421be",
   "metadata": {},
   "outputs": [],
   "source": [
    "import torch.nn as nn\n",
    "import torch.nn.functional as F\n",
    "class MinistMoudle(nn.Module):\n",
    "    def __init__(self):\n",
    "        super().__init__()\n",
    "        self.fc1 = nn.Linear(1*28*28, 28)\n",
    "        self.fc2 = nn.Linear(28, 10)\n",
    "    def forward(self,input):\n",
    "        x = input.view([-1,1*28*28])\n",
    "        x = self.fc1(x)\n",
    "        x = F.relu(x)\n",
    "        out = self.fc2(x)\n",
    "        return F.log_softmax(out)"
   ]
  },
  {
   "cell_type": "code",
   "execution_count": 62,
   "id": "fd320a97",
   "metadata": {},
   "outputs": [],
   "source": [
    "from torch.optim import Adam\n",
    "model = MinistMoudle()\n",
    "optimizer = Adam(model.parameters(),lr=0.001)\n",
    "def train(epoch):\n",
    "    data_loader = DataLoader(dataset,batch_size=2,shuffle=True)\n",
    "    for index,(input,target) in enumerate(data_loader):\n",
    "        output = model(input)\n",
    "        loss = F.nll_loss(output,target)\n",
    "        optimizer.zero_grad()\n",
    "        loss.backward()\n",
    "        optimizer.step()\n",
    "        if index%100==0:\n",
    "            print(loss)\n",
    "            # 模型保存\n",
    "            torch.save(model.state_dict(),\"./modle\")\n",
    "            torch.save(optimizer.state_dict(),\"./optimizer\")"
   ]
  },
  {
   "cell_type": "code",
   "execution_count": 76,
   "id": "a9803e38",
   "metadata": {},
   "outputs": [],
   "source": [
    "import numpy as np\n",
    "def test():\n",
    "    dataset = MNIST('./data',train=True, download=False, transform=transform_fn)\n",
    "    data_loader = DataLoader(dataset,batch_size=12,shuffle=True)\n",
    "    loss_list = []\n",
    "    acc_list = []\n",
    "    for index,(input,target) in enumerate(data_loader):\n",
    "        with torch.no_grad():\n",
    "            output = model(input)\n",
    "            loss = F.nll_loss(output,target)\n",
    "            loss_list.append(loss)\n",
    "            pred = output.max(dim=-1)[-1] # 回去最大值位置\n",
    "            cur_acc = pred.eq(target).float().mean()\n",
    "            acc_list.append(cur_acc)\n",
    "    print(np.mean(loss_list),np.mean(acc_list))"
   ]
  },
  {
   "cell_type": "code",
   "execution_count": 77,
   "id": "5159784b",
   "metadata": {},
   "outputs": [
    {
     "name": "stderr",
     "output_type": "stream",
     "text": [
      "/var/folders/j9/x9wd0pm15rgd97b0jsp8sk100000gn/T/ipykernel_7400/3120936917.py:13: UserWarning: Implicit dimension choice for log_softmax has been deprecated. Change the call to include dim=X as an argument.\n",
      "  return F.log_softmax(out)\n"
     ]
    },
    {
     "name": "stdout",
     "output_type": "stream",
     "text": [
      "0.19650857 0.94\n"
     ]
    }
   ],
   "source": [
    "if __name__=='__main__':\n",
    "    test()"
   ]
  },
  {
   "cell_type": "code",
   "execution_count": null,
   "id": "5a418fce",
   "metadata": {},
   "outputs": [],
   "source": []
  },
  {
   "cell_type": "code",
   "execution_count": null,
   "id": "21ee3954",
   "metadata": {},
   "outputs": [],
   "source": []
  },
  {
   "cell_type": "code",
   "execution_count": null,
   "id": "4228c67f",
   "metadata": {},
   "outputs": [],
   "source": []
  },
  {
   "cell_type": "code",
   "execution_count": null,
   "id": "d20542db",
   "metadata": {},
   "outputs": [],
   "source": []
  },
  {
   "cell_type": "code",
   "execution_count": null,
   "id": "b164c4f9",
   "metadata": {},
   "outputs": [],
   "source": []
  },
  {
   "cell_type": "code",
   "execution_count": null,
   "id": "9d890fc8",
   "metadata": {},
   "outputs": [],
   "source": []
  },
  {
   "cell_type": "code",
   "execution_count": null,
   "id": "7a86da6a",
   "metadata": {},
   "outputs": [],
   "source": []
  }
 ],
 "metadata": {
  "kernelspec": {
   "display_name": "Python 3 (ipykernel)",
   "language": "python",
   "name": "python3"
  },
  "language_info": {
   "codemirror_mode": {
    "name": "ipython",
    "version": 3
   },
   "file_extension": ".py",
   "mimetype": "text/x-python",
   "name": "python",
   "nbconvert_exporter": "python",
   "pygments_lexer": "ipython3",
   "version": "3.9.7"
  }
 },
 "nbformat": 4,
 "nbformat_minor": 5
}
