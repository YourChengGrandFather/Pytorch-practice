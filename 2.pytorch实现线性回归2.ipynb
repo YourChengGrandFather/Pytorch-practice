{
 "cells": [
  {
   "cell_type": "code",
   "execution_count": 13,
   "id": "27a2a9a5",
   "metadata": {},
   "outputs": [],
   "source": [
    "import torch\n",
    "import torch.nn as nn"
   ]
  },
  {
   "cell_type": "code",
   "execution_count": 14,
   "id": "21ab3a17",
   "metadata": {},
   "outputs": [],
   "source": [
    "x_data = torch.Tensor([[1.0],[2.0],[3.0]])\n",
    "Y_data = torch.Tensor([[2.0],[4.0],[6.0]])"
   ]
  },
  {
   "cell_type": "code",
   "execution_count": 15,
   "id": "dda51e8d",
   "metadata": {},
   "outputs": [],
   "source": [
    "class LinearModule(nn.Module):\n",
    "    def __init__(self):\n",
    "        super().__init__()\n",
    "        self.linear = nn.Linear(1,1)\n",
    "    def forward(self,x):\n",
    "        y_predict = self.linear(x)\n",
    "        return y_predict\n",
    "        "
   ]
  },
  {
   "cell_type": "code",
   "execution_count": 16,
   "id": "ef50538d",
   "metadata": {},
   "outputs": [],
   "source": [
    "model = LinearModule()\n",
    "criterian = nn.MSELoss(reduction='sum')\n",
    "optimizer = torch.optim.SGD(model.parameters(), lr=0.01)\n",
    "best_loss = 1e10"
   ]
  },
  {
   "cell_type": "code",
   "execution_count": 17,
   "id": "99c1dd80",
   "metadata": {},
   "outputs": [
    {
     "data": {
      "text/plain": [
       "10000000000.0"
      ]
     },
     "execution_count": 17,
     "metadata": {},
     "output_type": "execute_result"
    }
   ],
   "source": [
    "best_loss"
   ]
  },
  {
   "cell_type": "code",
   "execution_count": null,
   "id": "d956f393",
   "metadata": {},
   "outputs": [],
   "source": []
  },
  {
   "cell_type": "code",
   "execution_count": 18,
   "id": "1585f942",
   "metadata": {},
   "outputs": [
    {
     "name": "stdout",
     "output_type": "stream",
     "text": [
      "w= Parameter containing:\n",
      "tensor([[1.5727]], requires_grad=True)\n",
      "b= Parameter containing:\n",
      "tensor([0.8244], requires_grad=True)\n"
     ]
    }
   ],
   "source": [
    "for epoch in range(10):\n",
    "    total_loss = 0\n",
    "    for x,y in zip(x_data,Y_data):\n",
    "        y_predict = model(x)\n",
    "        loss = criterian(y_predict,y)\n",
    "        total_loss += loss\n",
    "        optimizer.zero_grad()\n",
    "        loss.backward()\n",
    "        optimizer.step()\n",
    "    if total_loss < best_loss:\n",
    "        best_loss=total_loss\n",
    "        torch.save(model, './data/model/model.pt')\n",
    "print('w=', model.linear.weight)\n",
    "print('b=', model.linear.bias)"
   ]
  },
  {
   "cell_type": "code",
   "execution_count": 19,
   "id": "e7e28561",
   "metadata": {},
   "outputs": [
    {
     "name": "stdout",
     "output_type": "stream",
     "text": [
      "7.115222930908203\n"
     ]
    }
   ],
   "source": [
    "x_test =torch.Tensor([4.0])\n",
    "y_predict = model(x_test)\n",
    "print(y_predict.item())"
   ]
  },
  {
   "cell_type": "code",
   "execution_count": 20,
   "id": "7deaa1b9",
   "metadata": {},
   "outputs": [],
   "source": [
    "model2 = torch.load('./data/model/model.pt')"
   ]
  },
  {
   "cell_type": "code",
   "execution_count": 21,
   "id": "ea8ec88e",
   "metadata": {},
   "outputs": [
    {
     "name": "stdout",
     "output_type": "stream",
     "text": [
      "7.115222930908203\n"
     ]
    }
   ],
   "source": [
    "x_test =torch.Tensor([4.0])\n",
    "y_predict = model2(x_test)\n",
    "print(y_predict.item())"
   ]
  },
  {
   "cell_type": "code",
   "execution_count": 22,
   "id": "e5e67bab",
   "metadata": {},
   "outputs": [
    {
     "data": {
      "text/plain": [
       "OrderedDict([('linear.weight', tensor([[1.5727]])),\n",
       "             ('linear.bias', tensor([0.8244]))])"
      ]
     },
     "execution_count": 22,
     "metadata": {},
     "output_type": "execute_result"
    }
   ],
   "source": [
    "model.state_dict()"
   ]
  }
 ],
 "metadata": {
  "kernelspec": {
   "display_name": "Python 3 (ipykernel)",
   "language": "python",
   "name": "python3"
  },
  "language_info": {
   "codemirror_mode": {
    "name": "ipython",
    "version": 3
   },
   "file_extension": ".py",
   "mimetype": "text/x-python",
   "name": "python",
   "nbconvert_exporter": "python",
   "pygments_lexer": "ipython3",
   "version": "3.9.7"
  }
 },
 "nbformat": 4,
 "nbformat_minor": 5
}
