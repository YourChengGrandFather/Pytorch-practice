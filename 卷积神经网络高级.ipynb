{
 "cells": [
  {
   "cell_type": "code",
   "execution_count": 2,
   "id": "84b83ac7",
   "metadata": {},
   "outputs": [],
   "source": [
    "import torch\n",
    "import torch.nn as nn"
   ]
  },
  {
   "cell_type": "code",
   "execution_count": null,
   "id": "62b0fc61",
   "metadata": {},
   "outputs": [],
   "source": [
    "class InceptionA(torch.nn.Moudle):\n",
    "    def __init__(self,in_channels):\n",
    "        super().__init__()\n",
    "        self.branch1x1 = nn.Conv2d(in_channels,16,kernel_size=1)\n",
    "        self.branch5x5_1 = nn.Conv2d(in_channels,16,kernel_size=1)\n",
    "        self.branch5x5_2 = nn.Conv2d(16,24,kernel_size=5,padding=2)\n",
    "        self.branch3x3_1 = nn.Conv2d(in_channels,24,kernel_size=3,padding=16)\n",
    "        self.branch3x3_2 = nn.Conv2d(16,24,kernel_size=3,padding=1)\n",
    "        self.branch_pool = nn.Conv2d(in_channels,24,kernel_size=1)\n",
    "    def forward(seld,x):\n",
    "        branch1x1 = self.branch1x1(x)\n",
    "        \n",
    "        branch5x5 = \n",
    "        "
   ]
  },
  {
   "cell_type": "code",
   "execution_count": null,
   "id": "88fa1a8e",
   "metadata": {},
   "outputs": [],
   "source": []
  }
 ],
 "metadata": {
  "kernelspec": {
   "display_name": "Python 3 (ipykernel)",
   "language": "python",
   "name": "python3"
  },
  "language_info": {
   "codemirror_mode": {
    "name": "ipython",
    "version": 3
   },
   "file_extension": ".py",
   "mimetype": "text/x-python",
   "name": "python",
   "nbconvert_exporter": "python",
   "pygments_lexer": "ipython3",
   "version": "3.9.7"
  }
 },
 "nbformat": 4,
 "nbformat_minor": 5
}
